{
 "cells": [
  {
   "cell_type": "code",
   "execution_count": 179,
   "metadata": {
    "collapsed": false,
    "run_control": {
     "marked": false
    }
   },
   "outputs": [],
   "source": [
    "import sympy as sp\n",
    "sp.init_printing(use_latex='mathjax')\n",
    "from IPython.display import display\n",
    "import numpy as np\n",
    "\n",
    "kn = sp.Symbol('k_n', real = True)\n",
    "lamb = sp.Symbol('lambda', real = True)\n",
    "omegan = sp.Symbol('omega_n', real = True)\n",
    "E = sp.Symbol('E', real = True)\n",
    "I = sp.Symbol('I', real = True)\n",
    "L = sp.Symbol('L', real = True)\n",
    "w = sp.Symbol('w', real = True)\n",
    "x = sp.Symbol('x', real = True)\n",
    "q = sp.Symbol('q', real = True)\n",
    "t = sp.Symbol('t', real = True)\n",
    "X = sp.Symbol('X', real = True)\n",
    "f = sp.Symbol('f', real = True)\n",
    "A1 = sp.Symbol('A_1', real = True)\n",
    "A2 = sp.Symbol('A_2', real = True)\n",
    "A3 = sp.Symbol('A_3', real = True)\n",
    "A4 = sp.Symbol('A_4', real = True)"
   ]
  },
  {
   "cell_type": "markdown",
   "metadata": {},
   "source": [
    "For a homogeneous Euler-Bernoulli beam the equation of motion is:"
   ]
  },
  {
   "cell_type": "code",
   "execution_count": 151,
   "metadata": {
    "collapsed": false
   },
   "outputs": [
    {
     "data": {
      "text/latex": [
       "$$E I \\frac{\\partial^{4}}{\\partial x^{4}}  w{\\left (x,t \\right )} + \\lambda \\frac{\\partial^{2}}{\\partial t^{2}}  w{\\left (x,t \\right )} - q$$"
      ],
      "text/plain": [
       "      4                2             \n",
       "     ∂                ∂              \n",
       "E⋅I⋅───(w(x, t)) + λ⋅───(w(x, t)) - q\n",
       "      4                2             \n",
       "    ∂x               ∂t              "
      ]
     },
     "execution_count": 151,
     "metadata": {},
     "output_type": "execute_result"
    }
   ],
   "source": [
    "E*I*sp.diff(w(x, t), x, 4) + lamb*sp.diff(w(x, t), t, 2) - q"
   ]
  },
  {
   "cell_type": "markdown",
   "metadata": {},
   "source": [
    "The free vibration case reduces to:"
   ]
  },
  {
   "cell_type": "code",
   "execution_count": 152,
   "metadata": {
    "collapsed": false
   },
   "outputs": [
    {
     "data": {
      "text/latex": [
       "$$E I \\frac{\\partial^{4}}{\\partial x^{4}}  w{\\left (x,t \\right )} + \\lambda \\frac{\\partial^{2}}{\\partial t^{2}}  w{\\left (x,t \\right )}$$"
      ],
      "text/plain": [
       "      4                2         \n",
       "     ∂                ∂          \n",
       "E⋅I⋅───(w(x, t)) + λ⋅───(w(x, t))\n",
       "      4                2         \n",
       "    ∂x               ∂t          "
      ]
     },
     "execution_count": 152,
     "metadata": {},
     "output_type": "execute_result"
    }
   ],
   "source": [
    "Eq = E*I*sp.diff(w(x, t), x, 4) + lamb*sp.diff(w(x, t), t, 2)\n",
    "Eq"
   ]
  },
  {
   "cell_type": "markdown",
   "metadata": {},
   "source": [
    "Assume following form of $w(x,t) = X(x)f(t)$"
   ]
  },
  {
   "cell_type": "code",
   "execution_count": 153,
   "metadata": {
    "collapsed": false
   },
   "outputs": [
    {
     "data": {
      "text/latex": [
       "$$E I f{\\left (t \\right )} \\frac{d^{4}}{d x^{4}}  X{\\left (x \\right )} + \\lambda X{\\left (x \\right )} \\frac{d^{2}}{d t^{2}}  f{\\left (t \\right )}$$"
      ],
      "text/plain": [
       "           4                  2      \n",
       "          d                  d       \n",
       "E⋅I⋅f(t)⋅───(X(x)) + λ⋅X(x)⋅───(f(t))\n",
       "           4                  2      \n",
       "         dx                 dt       "
      ]
     },
     "execution_count": 153,
     "metadata": {},
     "output_type": "execute_result"
    }
   ],
   "source": [
    "Eq = E*I*sp.diff(X(x)*f(t), x, 4) + lamb*sp.diff(X(x)*f(t), t, 2)\n",
    "Eq"
   ]
  },
  {
   "cell_type": "markdown",
   "metadata": {},
   "source": [
    "Divide above expression by $\\lambda X(x) f(t)$"
   ]
  },
  {
   "cell_type": "code",
   "execution_count": 154,
   "metadata": {
    "collapsed": false
   },
   "outputs": [
    {
     "data": {
      "text/latex": [
       "$$\\frac{E I \\frac{d^{4}}{d x^{4}}  X{\\left (x \\right )}}{\\lambda X{\\left (x \\right )}} + \\frac{\\frac{d^{2}}{d t^{2}}  f{\\left (t \\right )}}{f{\\left (t \\right )}}$$"
      ],
      "text/plain": [
       "      4           2      \n",
       "     d           d       \n",
       "E⋅I⋅───(X(x))   ───(f(t))\n",
       "      4           2      \n",
       "    dx          dt       \n",
       "───────────── + ─────────\n",
       "    λ⋅X(x)         f(t)  "
      ]
     },
     "execution_count": 154,
     "metadata": {},
     "output_type": "execute_result"
    }
   ],
   "source": [
    "Eq1 = sp.nsimplify(Eq/(lamb*X(x)*f(t)))\n",
    "Eq1.expand()"
   ]
  },
  {
   "cell_type": "markdown",
   "metadata": {},
   "source": [
    "By seperation of variables each of the terms is constant with respect to one another. This constant is defined as $\\omega_n^2$, which is the natural frequency."
   ]
  },
  {
   "cell_type": "code",
   "execution_count": 155,
   "metadata": {
    "collapsed": false
   },
   "outputs": [
    {
     "data": {
      "text/latex": [
       "$$\\frac{d^{4}}{d x^{4}}  X{\\left (x \\right )} - \\frac{\\lambda \\omega_{n}^{2}}{E I} X{\\left (x \\right )}$$"
      ],
      "text/plain": [
       "  4              2     \n",
       " d          λ⋅ω_n ⋅X(x)\n",
       "───(X(x)) - ───────────\n",
       "  4             E⋅I    \n",
       "dx                     "
      ]
     },
     "execution_count": 155,
     "metadata": {},
     "output_type": "execute_result"
    }
   ],
   "source": [
    "Eqx = (Eq1.expand().coeff((E*I)/lamb)*((E*I)/lamb)-omegan**2)*((lamb*X(x))/(E*I))\n",
    "Eqx.expand()"
   ]
  },
  {
   "cell_type": "markdown",
   "metadata": {},
   "source": [
    "Above experssion in terms of $x$ can be used to solve for natural frequencies and mode shapes. Following expression satisfies the expression."
   ]
  },
  {
   "cell_type": "code",
   "execution_count": 156,
   "metadata": {
    "collapsed": false
   },
   "outputs": [
    {
     "data": {
      "text/latex": [
       "$$A_{1} \\sin{\\left (k_{n} x \\right )} + A_{2} \\cos{\\left (k_{n} x \\right )} + A_{3} \\sinh{\\left (k_{n} x \\right )} + A_{4} \\cosh{\\left (k_{n} x \\right )}$$"
      ],
      "text/plain": [
       "A₁⋅sin(k_n⋅x) + A₂⋅cos(k_n⋅x) + A₃⋅sinh(k_n⋅x) + A₄⋅cosh(k_n⋅x)"
      ]
     },
     "execution_count": 156,
     "metadata": {},
     "output_type": "execute_result"
    }
   ],
   "source": [
    "w = A1*sp.sin(kn*x) + A2*sp.cos(kn*x) + A3*sp.sinh(kn*x) + A4*sp.cosh(kn*x)\n",
    "w"
   ]
  },
  {
   "cell_type": "markdown",
   "metadata": {},
   "source": [
    "Where $k_n^4 = \\frac{\\lambda \\omega_n^2}{EI}$"
   ]
  },
  {
   "cell_type": "markdown",
   "metadata": {},
   "source": [
    "For cantilevered beam, following B.C.'s are used:\n",
    "- $w\\ =\\ 0$ at $x=0$, zero displacement  \n",
    "- $\\frac{dw}{dx} = 0$ at $x=0$, zero slope\n",
    "- $\\frac{d^2w}{dx^2} = 0$ at $x=L$, zero bending moment\n",
    "- $\\frac{d^3w}{dx^3} = 0$ at $x=L$, zero shear"
   ]
  },
  {
   "cell_type": "markdown",
   "metadata": {},
   "source": [
    "For first B.C. $w\\ =\\ 0$ at $x=0$"
   ]
  },
  {
   "cell_type": "code",
   "execution_count": 157,
   "metadata": {
    "collapsed": false
   },
   "outputs": [
    {
     "data": {
      "text/latex": [
       "$$A_{2} + A_{4}$$"
      ],
      "text/plain": [
       "A₂ + A₄"
      ]
     },
     "execution_count": 157,
     "metadata": {},
     "output_type": "execute_result"
    }
   ],
   "source": [
    "w1 = w.subs(x, 0)\n",
    "w1"
   ]
  },
  {
   "cell_type": "markdown",
   "metadata": {},
   "source": [
    "For second B.C. $\\frac{dw}{dx} = 0$ at $x=0$"
   ]
  },
  {
   "cell_type": "code",
   "execution_count": 158,
   "metadata": {
    "collapsed": false
   },
   "outputs": [
    {
     "data": {
      "text/latex": [
       "$$A_{1} k_{n} + A_{3} k_{n}$$"
      ],
      "text/plain": [
       "A₁⋅k_n + A₃⋅k_n"
      ]
     },
     "execution_count": 158,
     "metadata": {},
     "output_type": "execute_result"
    }
   ],
   "source": [
    "w2 = sp.diff(w, x).subs(x, 0)\n",
    "w2"
   ]
  },
  {
   "cell_type": "markdown",
   "metadata": {},
   "source": [
    "For third B.C. $\\frac{d^2w}{dx^2} = 0$ at $x=L$"
   ]
  },
  {
   "cell_type": "code",
   "execution_count": 159,
   "metadata": {
    "collapsed": false
   },
   "outputs": [
    {
     "data": {
      "text/latex": [
       "$$- A_{1} k_{n}^{2} \\sin{\\left (L k_{n} \\right )} - A_{2} k_{n}^{2} \\cos{\\left (L k_{n} \\right )} + A_{3} k_{n}^{2} \\sinh{\\left (L k_{n} \\right )} + A_{4} k_{n}^{2} \\cosh{\\left (L k_{n} \\right )}$$"
      ],
      "text/plain": [
       "        2                    2                    2                     2     \n",
       "- A₁⋅k_n ⋅sin(L⋅k_n) - A₂⋅k_n ⋅cos(L⋅k_n) + A₃⋅k_n ⋅sinh(L⋅k_n) + A₄⋅k_n ⋅cosh\n",
       "\n",
       "       \n",
       "(L⋅k_n)"
      ]
     },
     "execution_count": 159,
     "metadata": {},
     "output_type": "execute_result"
    }
   ],
   "source": [
    "w3 = sp.diff(w, x, 2).subs(x, L)\n",
    "w3.expand()"
   ]
  },
  {
   "cell_type": "markdown",
   "metadata": {},
   "source": [
    "Sub in following relationships and solve for $A_3$:\n",
    "- $A_1$ = $-A_3$\n",
    "- $A_2$ = $-A_4$"
   ]
  },
  {
   "cell_type": "code",
   "execution_count": 160,
   "metadata": {
    "collapsed": false
   },
   "outputs": [
    {
     "data": {
      "text/latex": [
       "$$- \\frac{A_{4} \\left(\\cos{\\left (L k_{n} \\right )} + \\cosh{\\left (L k_{n} \\right )}\\right)}{\\sin{\\left (L k_{n} \\right )} + \\sinh{\\left (L k_{n} \\right )}}$$"
      ],
      "text/plain": [
       "-A₄⋅(cos(L⋅k_n) + cosh(L⋅k_n)) \n",
       "───────────────────────────────\n",
       "    sin(L⋅k_n) + sinh(L⋅k_n)   "
      ]
     },
     "execution_count": 160,
     "metadata": {},
     "output_type": "execute_result"
    }
   ],
   "source": [
    "w3s = sp.solve(w3.expand().subs(A1, -A3).subs(A2, -A4), A3)\n",
    "A3s=w3s[0]\n",
    "A3s"
   ]
  },
  {
   "cell_type": "markdown",
   "metadata": {},
   "source": [
    "For fourth B.C. $\\frac{d^3w}{dx^3} = 0$ at $x=L$"
   ]
  },
  {
   "cell_type": "code",
   "execution_count": 161,
   "metadata": {
    "collapsed": false
   },
   "outputs": [
    {
     "data": {
      "text/latex": [
       "$$- A_{1} k_{n}^{3} \\cos{\\left (L k_{n} \\right )} + A_{2} k_{n}^{3} \\sin{\\left (L k_{n} \\right )} + A_{3} k_{n}^{3} \\cosh{\\left (L k_{n} \\right )} + A_{4} k_{n}^{3} \\sinh{\\left (L k_{n} \\right )}$$"
      ],
      "text/plain": [
       "        3                    3                    3                     3     \n",
       "- A₁⋅k_n ⋅cos(L⋅k_n) + A₂⋅k_n ⋅sin(L⋅k_n) + A₃⋅k_n ⋅cosh(L⋅k_n) + A₄⋅k_n ⋅sinh\n",
       "\n",
       "       \n",
       "(L⋅k_n)"
      ]
     },
     "execution_count": 161,
     "metadata": {},
     "output_type": "execute_result"
    }
   ],
   "source": [
    "w4 = sp.diff(w, x, 3).subs(x, L)\n",
    "w4.expand()"
   ]
  },
  {
   "cell_type": "markdown",
   "metadata": {},
   "source": [
    "Sub in following relationships and solve for $A_4$:\n",
    "- $A_1$ = $-A_3$\n",
    "- $A_2$ = $-A_4$"
   ]
  },
  {
   "cell_type": "code",
   "execution_count": 162,
   "metadata": {
    "collapsed": false
   },
   "outputs": [
    {
     "data": {
      "text/latex": [
       "$$\\frac{A_{3} \\left(\\cos{\\left (L k_{n} \\right )} + \\cosh{\\left (L k_{n} \\right )}\\right)}{\\sin{\\left (L k_{n} \\right )} - \\sinh{\\left (L k_{n} \\right )}}$$"
      ],
      "text/plain": [
       "A₃⋅(cos(L⋅k_n) + cosh(L⋅k_n))\n",
       "─────────────────────────────\n",
       "   sin(L⋅k_n) - sinh(L⋅k_n)  "
      ]
     },
     "execution_count": 162,
     "metadata": {},
     "output_type": "execute_result"
    }
   ],
   "source": [
    "w4s = sp.solve(w4.expand().subs(A1, -A3).subs(A2, -A4), A4)\n",
    "A4s=w4s[0]\n",
    "A4s"
   ]
  },
  {
   "cell_type": "markdown",
   "metadata": {},
   "source": [
    "**In next step, expression derived above for $A_1,\\ A_2$ and $A_3$ can be plugged into equation for $A_4$ ($4^{th}$ boundary condition) to get following term.**"
   ]
  },
  {
   "cell_type": "code",
   "execution_count": 163,
   "metadata": {
    "collapsed": false
   },
   "outputs": [
    {
     "data": {
      "text/latex": [
       "$$- \\frac{2 A_{4} k_{n}^{3} \\left(\\cos{\\left (L k_{n} \\right )} \\cosh{\\left (L k_{n} \\right )} + 1\\right)}{\\sin{\\left (L k_{n} \\right )} + \\sinh{\\left (L k_{n} \\right )}}$$"
      ],
      "text/plain": [
       "         3                              \n",
       "-2⋅A₄⋅k_n ⋅(cos(L⋅k_n)⋅cosh(L⋅k_n) + 1) \n",
       "────────────────────────────────────────\n",
       "        sin(L⋅k_n) + sinh(L⋅k_n)        "
      ]
     },
     "execution_count": 163,
     "metadata": {},
     "output_type": "execute_result"
    }
   ],
   "source": [
    "test = w4.subs(A3, A3s).subs(A1, -A3s).subs(A2, -A4)\n",
    "test.simplify()"
   ]
  },
  {
   "cell_type": "markdown",
   "metadata": {},
   "source": [
    "**From this term it is evident that non trivial solutions exist only if $cos(Lk_n)cosh(Lk_n) + 1 = 0$. This equation can be solved numerically for roots of $Lk_n$, which will yield the natural frequencies.**  \n",
    "\n",
    "**First 6 solutions are numerically determined below:**"
   ]
  },
  {
   "cell_type": "code",
   "execution_count": 237,
   "metadata": {
    "collapsed": false
   },
   "outputs": [
    {
     "name": "stdout",
     "output_type": "stream",
     "text": [
      "[1.8751187511875118, 4.6941469414694144, 7.8547785477854788, 10.99560995609956, 14.137241372413726, 17.278672786727867]\n"
     ]
    }
   ],
   "source": [
    "x2=np.linspace(0, 20, 100000)\n",
    "\n",
    "#print(x)\n",
    "\n",
    "Y=np.cos(x2)*np.cosh(x2)+1\n",
    "\n",
    "S = len(Y)\n",
    "knL = []\n",
    "for i in range(S-1):\n",
    "    if Y[i]<0.0 and Y[i-1]>0:\n",
    "        #print('First Condition')\n",
    "        #print('Fun Values =', Y[i], Y[i-1])\n",
    "        #print('Wave Num Values =', x[i], x[i-1])\n",
    "        value = (x2[i] + x2[i-1])/2\n",
    "        #print(value)\n",
    "        knL.append(value)\n",
    "    elif Y[i]>0 and Y[i-1]<0:\n",
    "        #print('Second Condition')\n",
    "        #print('Fun Values =', Y[i], Y[i-1])\n",
    "        #print('Wave Num Values =', x[i], x[i-1])\n",
    "        value = (x2[i] + x2[i-1])/2\n",
    "        #print(value)\n",
    "        knL.append(value)\n",
    "print(knL)"
   ]
  },
  {
   "cell_type": "markdown",
   "metadata": {},
   "source": [
    "**For a cantilever beam with following properties, the first 6 natural frequencies in Hz are calculated below using following expression $\\omega_n = k_n^2 \\sqrt{\\frac{EI}{\\rho A}}$, since $k_n L = x$, the formula can be expressed as $\\omega_n = \\frac{x^2}{L^2} \\sqrt{\\frac{EI}{\\rho A}}$**  \n",
    "\n",
    "- L = 0.03 m\n",
    "- b = 0.005 m\n",
    "- h = 0.0005 m\n",
    "- $\\rho$ = 2711 $\\frac{kg}{m^3}$ (Aluminum density)\n",
    "- E = $6.89^{10}$ Pa"
   ]
  },
  {
   "cell_type": "code",
   "execution_count": 238,
   "metadata": {
    "collapsed": false
   },
   "outputs": [
    {
     "name": "stdout",
     "output_type": "stream",
     "text": [
      "452.438349335441\n",
      "2835.40575284148\n",
      "7939.07210543035\n",
      "15557.5249941142\n",
      "25717.6452686897\n",
      "38416.9264618861\n"
     ]
    }
   ],
   "source": [
    "L = 0.03\n",
    "b = 0.005\n",
    "h = 0.0005\n",
    "rho = 2711\n",
    "E = 6.89e10\n",
    "A = b*h\n",
    "Ix = (b*h**3)/12\n",
    "\n",
    "for j in range(len(knL)):\n",
    "    omega = ((knL[j]**2/L**2)*sp.sqrt((E*Ix)/(rho*A)))/(2*np.pi)\n",
    "\n",
    "    print(omega)"
   ]
  },
  {
   "cell_type": "markdown",
   "metadata": {},
   "source": [
    "### **Next step is to obtain mode shapes for the above requencies.**\n",
    "\n",
    "**Plugging in expressions for $A_1,\\ A_2,\\ A_3,\\ A_4$ into the assumed solution for $w$ based on the prescribed boundary conditions yields the equation for the mode shapes**"
   ]
  },
  {
   "cell_type": "code",
   "execution_count": 180,
   "metadata": {
    "collapsed": false
   },
   "outputs": [
    {
     "data": {
      "text/latex": [
       "$$\\frac{A_{4}}{\\sin{\\left (L k_{n} \\right )} + \\sinh{\\left (L k_{n} \\right )}} \\left(\\sin{\\left (k_{n} x \\right )} - \\sinh{\\left (k_{n} x \\right )}\\right) \\left(\\cos{\\left (L k_{n} \\right )} + \\cosh{\\left (L k_{n} \\right )}\\right)$$"
      ],
      "text/plain": [
       "A₄⋅(sin(k_n⋅x) - sinh(k_n⋅x))⋅(cos(L⋅k_n) + cosh(L⋅k_n))\n",
       "────────────────────────────────────────────────────────\n",
       "                sin(L⋅k_n) + sinh(L⋅k_n)                "
      ]
     },
     "metadata": {},
     "output_type": "display_data"
    },
    {
     "data": {
      "text/latex": [
       "$$- A_{4} \\cos{\\left (k_{n} x \\right )} + A_{4} \\cosh{\\left (k_{n} x \\right )}$$"
      ],
      "text/plain": [
       "-A₄⋅cos(k_n⋅x) + A₄⋅cosh(k_n⋅x)"
      ]
     },
     "metadata": {},
     "output_type": "display_data"
    }
   ],
   "source": [
    "ws1 = (-A3s*sp.sin(kn*x)+A3s*sp.sinh(kn*x)).factor()\n",
    "ws2 = -A4*sp.cos(kn*x)+A4*sp.cosh(kn*x)\n",
    "display(ws1)\n",
    "display(ws2)\n",
    "ws = (ws1+ws2).simplify()"
   ]
  },
  {
   "cell_type": "markdown",
   "metadata": {},
   "source": [
    "**Constant $A_4$, which is unique for each frequency, is considered arbitrary in this context since we are only after the mode shape. To plot mode shapes it is customary to use $A_4$ = $\\frac{1}{2}$.**"
   ]
  },
  {
   "cell_type": "code",
   "execution_count": 239,
   "metadata": {
    "collapsed": false
   },
   "outputs": [],
   "source": [
    "import matplotlib.pyplot as plt\n",
    "import numpy as np\n",
    "#define beam lenght as array\n",
    "x1=np.linspace(0, 0.03, 500)\n",
    "\n",
    "# constant for defining mode\n",
    "m = 0\n",
    "\n",
    "# calculate k1\n",
    "k1 = knL[m]/L\n",
    "\n",
    "# define constant\n",
    "c=0.5\n",
    "\n",
    "# equation for mode shapes\n",
    "mode1 = (c/(np.sin(knL[m]) + np.sinh(knL[m])))*\\\n",
    "        ((np.sin(k1*x1) - np.sinh(k1*x1))*(np.cos(knL[m]) + np.cosh(knL[m])))\\\n",
    "        -c*np.cos(k1*x1) + c*np.cosh(k1*x1)\n",
    "\n",
    "#Plot of numerical and analytical solutions\n",
    "fig = plt.figure(figsize = (15,8))\n",
    "\n",
    "plt.plot(x1, mode1, 'b-', label = 'Mode = 1') #FFT solution plot\n",
    "\n",
    "plt.legend(loc = 'upper right')\n",
    "fig.suptitle('Mode Shapes', fontsize = 14)\n",
    "plt.xlabel('Distance from end')\n",
    "plt.ylabel('Displacement $w$, (arbitrary)')\n",
    "\n",
    "plt.grid()\n",
    "plt.show()"
   ]
  },
  {
   "cell_type": "markdown",
   "metadata": {
    "collapsed": true
   },
   "source": [
    "** For a periodic loading on the end of the cantilever beam $F = Psin(\\Omega t)$, the deflection is given by the eigenfunction expansion seen below.**\n",
    "\n",
    "**$w(x, t) = \\Sigma^{\\infty}_{n=1} c_n X_n(x)sin(\\Omega t)$**  \n",
    "**Where**  \n",
    "**$X_n(x) = -\\cos{\\left (k_{n} x \\right )} + \\cosh{\\left (k_{n} x \\right )} + \\frac{1}{\\sin{\\left (L k_{n} \\right )} + \\sinh{\\left (L k_{n} \\right )}} \\left(\\sin{\\left (k_{n} x \\right )} - \\sinh{\\left (k_{n} x \\right )}\\right) \\left(\\cos{\\left (L k_{n} \\right )} + \\cosh{\\left (L k_{n} \\right )}\\right)$**  \n",
    "**$c_n = \\frac{PX_n(L)}{m_n(\\omega_n^2 - \\Omega^2)}$**  \n",
    "**$m_n = A\\rho \\int_0^L X_n^2(x)dx$**\n",
    "\n",
    "** Interested in the max displacement at $x=L$. Therefore, $sin(\\Omega t) = 1$.**"
   ]
  },
  {
   "cell_type": "code",
   "execution_count": 247,
   "metadata": {
    "collapsed": false
   },
   "outputs": [
    {
     "name": "stdout",
     "output_type": "stream",
     "text": [
      "0\n",
      "1\n",
      "2\n"
     ]
    },
    {
     "data": {
      "text/latex": [
       "$$\\left [ - \\frac{111.341090910707}{- 0.000142602833219149 \\Omega^{2} + 29.1910785488548}, \\quad - \\frac{57.8504074616702}{- 0.000157142419930084 \\Omega^{2} + 1263.35432142182}, \\quad - \\frac{60.0957038946481}{- 0.000177577256866507 \\Omega^{2} + 11192.5717606718}\\right ]$$"
      ],
      "text/plain": [
       "⎡               -111.341090910707                                -57.850407461\n",
       "⎢───────────────────────────────────────────────, ────────────────────────────\n",
       "⎢                           2                                                2\n",
       "⎣- - -0.000142602833219149⋅Ω  + 29.1910785488548  - - -0.000157142419930084⋅Ω \n",
       "\n",
       "6702                                -60.0957038946481               ⎤\n",
       "───────────────────, ───────────────────────────────────────────────⎥\n",
       "                                                2                   ⎥\n",
       " + 1263.35432142182  - - -0.000177577256866507⋅Ω  + 11192.5717606718⎦"
      ]
     },
     "execution_count": 247,
     "metadata": {},
     "output_type": "execute_result"
    }
   ],
   "source": [
    "y = sp.Symbol('y', real = True)\n",
    "Omega = sp.Symbol('Omega', real = True)\n",
    "\n",
    "L = 0.03 #meters\n",
    "b = 0.005 #meters\n",
    "h = 0.0005 #meters\n",
    "rho = 2711 #meters\n",
    "E = 6.89e10 #Pa\n",
    "A = b*h #meters**2\n",
    "Ix = (b*h**3)/12 #meters**4\n",
    "\n",
    "P = -15 # Newtons\n",
    "\n",
    "# define constant\n",
    "c=1\n",
    "\n",
    "omg=[452.44, 2835.41, 7939.1]\n",
    "\n",
    "W=[]\n",
    "\n",
    "# equation for mode shapes\n",
    "for i in range(0, 3):\n",
    "    ki = knL[i]/L\n",
    "    mi = A*rho*sp.integrate((sp.sin(ki*y) - sp.sinh(ki*y) - ((sp.sin(knL[i]) + sp.sinh(knL[i]))\\\n",
    "                    /(sp.cos(knL[i]) + sp.cosh(knL[i])))*(sp.cos(ki*y) - sp.cosh(ki*y)))**2, (y, 0, L))\n",
    "\n",
    "    Xi = (sp.sin(knL[i]) - sp.sinh(knL[i]) - ((sp.sin(knL[i]) + sp.sinh(knL[i]))\\\n",
    "                    /(sp.cos(knL[i]) + sp.cosh(knL[i])))*(sp.cos(knL[i]) - sp.cosh(knL[i])))\n",
    "        \n",
    "    ci = (P*Xi)/(mi*(omg[i]**2-Omega**2))\n",
    "    \n",
    "    wi = ci*Xi\n",
    "    \n",
    "    #wi = wi + wi\n",
    "    \n",
    "    W.append(wi)\n",
    "    print(i)\n",
    "W"
   ]
  },
  {
   "cell_type": "code",
   "execution_count": 250,
   "metadata": {
    "collapsed": false
   },
   "outputs": [
    {
     "data": {
      "text/latex": [
       "$$- \\frac{111.341090910707}{- 0.000142602833219149 OMG^{2} + 29.1910785488548}$$"
      ],
      "text/plain": [
       "                -111.341090910707                \n",
       "─────────────────────────────────────────────────\n",
       "                             2                   \n",
       "- - -0.000142602833219149⋅OMG  + 29.1910785488548"
      ]
     },
     "metadata": {},
     "output_type": "display_data"
    },
    {
     "name": "stdout",
     "output_type": "stream",
     "text": [
      "-111.341090910707/(-0.000142602833219149*OMG**2 + 29.1910785488548)\n",
      "[ -3.81421641e+00   3.96841867e+01   1.12698029e+00   4.30254281e-01\n",
      "   2.30635871e-01   1.44462263e-01   9.91733010e-02   7.23628426e-02\n",
      "   5.51575415e-02   4.34493970e-02   3.51180031e-02   2.89768400e-02\n",
      "   2.43190855e-02   2.07020618e-02   1.78369109e-02   1.55285716e-02\n",
      "   1.36414334e-02   1.20788282e-02   1.07703321e-02   9.66365086e-03]\n",
      "[    0.           473.68421053   947.36842105  1421.05263158  1894.73684211\n",
      "  2368.42105263  2842.10526316  3315.78947368  3789.47368421  4263.15789474\n",
      "  4736.84210526  5210.52631579  5684.21052632  6157.89473684  6631.57894737\n",
      "  7105.26315789  7578.94736842  8052.63157895  8526.31578947  9000.        ]\n"
     ]
    },
    {
     "ename": "ValueError",
     "evalue": "x and y must have same first dimension",
     "output_type": "error",
     "traceback": [
      "\u001b[1;31m---------------------------------------------------------------------------\u001b[0m",
      "\u001b[1;31mValueError\u001b[0m                                Traceback (most recent call last)",
      "\u001b[1;32m<ipython-input-250-dc3dc2809a2a>\u001b[0m in \u001b[0;36m<module>\u001b[1;34m()\u001b[0m\n\u001b[0;32m     27\u001b[0m \u001b[0mfig\u001b[0m \u001b[1;33m=\u001b[0m \u001b[0mplt\u001b[0m\u001b[1;33m.\u001b[0m\u001b[0mfigure\u001b[0m\u001b[1;33m(\u001b[0m\u001b[0mfigsize\u001b[0m \u001b[1;33m=\u001b[0m \u001b[1;33m(\u001b[0m\u001b[1;36m15\u001b[0m\u001b[1;33m,\u001b[0m\u001b[1;36m8\u001b[0m\u001b[1;33m)\u001b[0m\u001b[1;33m)\u001b[0m\u001b[1;33m\u001b[0m\u001b[0m\n\u001b[0;32m     28\u001b[0m \u001b[1;33m\u001b[0m\u001b[0m\n\u001b[1;32m---> 29\u001b[1;33m \u001b[0mplt\u001b[0m\u001b[1;33m.\u001b[0m\u001b[0mplot\u001b[0m\u001b[1;33m(\u001b[0m\u001b[0mOMG\u001b[0m\u001b[1;33m,\u001b[0m \u001b[0mRE\u001b[0m\u001b[1;33m,\u001b[0m \u001b[1;34m'b-'\u001b[0m\u001b[1;33m,\u001b[0m \u001b[0mlabel\u001b[0m \u001b[1;33m=\u001b[0m \u001b[1;34m'Mode = 1'\u001b[0m\u001b[1;33m)\u001b[0m \u001b[1;31m#FFT solution plot\u001b[0m\u001b[1;33m\u001b[0m\u001b[0m\n\u001b[0m\u001b[0;32m     30\u001b[0m \u001b[1;33m\u001b[0m\u001b[0m\n\u001b[0;32m     31\u001b[0m \u001b[0mplt\u001b[0m\u001b[1;33m.\u001b[0m\u001b[0mlegend\u001b[0m\u001b[1;33m(\u001b[0m\u001b[0mloc\u001b[0m \u001b[1;33m=\u001b[0m \u001b[1;34m'upper right'\u001b[0m\u001b[1;33m)\u001b[0m\u001b[1;33m\u001b[0m\u001b[0m\n",
      "\u001b[1;32mC:\\Users\\ado\\Anaconda3\\lib\\site-packages\\matplotlib\\pyplot.py\u001b[0m in \u001b[0;36mplot\u001b[1;34m(*args, **kwargs)\u001b[0m\n\u001b[0;32m   3152\u001b[0m         \u001b[0max\u001b[0m\u001b[1;33m.\u001b[0m\u001b[0mhold\u001b[0m\u001b[1;33m(\u001b[0m\u001b[0mhold\u001b[0m\u001b[1;33m)\u001b[0m\u001b[1;33m\u001b[0m\u001b[0m\n\u001b[0;32m   3153\u001b[0m     \u001b[1;32mtry\u001b[0m\u001b[1;33m:\u001b[0m\u001b[1;33m\u001b[0m\u001b[0m\n\u001b[1;32m-> 3154\u001b[1;33m         \u001b[0mret\u001b[0m \u001b[1;33m=\u001b[0m \u001b[0max\u001b[0m\u001b[1;33m.\u001b[0m\u001b[0mplot\u001b[0m\u001b[1;33m(\u001b[0m\u001b[1;33m*\u001b[0m\u001b[0margs\u001b[0m\u001b[1;33m,\u001b[0m \u001b[1;33m**\u001b[0m\u001b[0mkwargs\u001b[0m\u001b[1;33m)\u001b[0m\u001b[1;33m\u001b[0m\u001b[0m\n\u001b[0m\u001b[0;32m   3155\u001b[0m     \u001b[1;32mfinally\u001b[0m\u001b[1;33m:\u001b[0m\u001b[1;33m\u001b[0m\u001b[0m\n\u001b[0;32m   3156\u001b[0m         \u001b[0max\u001b[0m\u001b[1;33m.\u001b[0m\u001b[0mhold\u001b[0m\u001b[1;33m(\u001b[0m\u001b[0mwashold\u001b[0m\u001b[1;33m)\u001b[0m\u001b[1;33m\u001b[0m\u001b[0m\n",
      "\u001b[1;32mC:\\Users\\ado\\Anaconda3\\lib\\site-packages\\matplotlib\\__init__.py\u001b[0m in \u001b[0;36minner\u001b[1;34m(ax, *args, **kwargs)\u001b[0m\n\u001b[0;32m   1808\u001b[0m                     warnings.warn(msg % (label_namer, func.__name__),\n\u001b[0;32m   1809\u001b[0m                                   RuntimeWarning, stacklevel=2)\n\u001b[1;32m-> 1810\u001b[1;33m             \u001b[1;32mreturn\u001b[0m \u001b[0mfunc\u001b[0m\u001b[1;33m(\u001b[0m\u001b[0max\u001b[0m\u001b[1;33m,\u001b[0m \u001b[1;33m*\u001b[0m\u001b[0margs\u001b[0m\u001b[1;33m,\u001b[0m \u001b[1;33m**\u001b[0m\u001b[0mkwargs\u001b[0m\u001b[1;33m)\u001b[0m\u001b[1;33m\u001b[0m\u001b[0m\n\u001b[0m\u001b[0;32m   1811\u001b[0m         \u001b[0mpre_doc\u001b[0m \u001b[1;33m=\u001b[0m \u001b[0minner\u001b[0m\u001b[1;33m.\u001b[0m\u001b[0m__doc__\u001b[0m\u001b[1;33m\u001b[0m\u001b[0m\n\u001b[0;32m   1812\u001b[0m         \u001b[1;32mif\u001b[0m \u001b[0mpre_doc\u001b[0m \u001b[1;32mis\u001b[0m \u001b[1;32mNone\u001b[0m\u001b[1;33m:\u001b[0m\u001b[1;33m\u001b[0m\u001b[0m\n",
      "\u001b[1;32mC:\\Users\\ado\\Anaconda3\\lib\\site-packages\\matplotlib\\axes\\_axes.py\u001b[0m in \u001b[0;36mplot\u001b[1;34m(self, *args, **kwargs)\u001b[0m\n\u001b[0;32m   1425\u001b[0m             \u001b[0mkwargs\u001b[0m\u001b[1;33m[\u001b[0m\u001b[1;34m'color'\u001b[0m\u001b[1;33m]\u001b[0m \u001b[1;33m=\u001b[0m \u001b[0mc\u001b[0m\u001b[1;33m\u001b[0m\u001b[0m\n\u001b[0;32m   1426\u001b[0m \u001b[1;33m\u001b[0m\u001b[0m\n\u001b[1;32m-> 1427\u001b[1;33m         \u001b[1;32mfor\u001b[0m \u001b[0mline\u001b[0m \u001b[1;32min\u001b[0m \u001b[0mself\u001b[0m\u001b[1;33m.\u001b[0m\u001b[0m_get_lines\u001b[0m\u001b[1;33m(\u001b[0m\u001b[1;33m*\u001b[0m\u001b[0margs\u001b[0m\u001b[1;33m,\u001b[0m \u001b[1;33m**\u001b[0m\u001b[0mkwargs\u001b[0m\u001b[1;33m)\u001b[0m\u001b[1;33m:\u001b[0m\u001b[1;33m\u001b[0m\u001b[0m\n\u001b[0m\u001b[0;32m   1428\u001b[0m             \u001b[0mself\u001b[0m\u001b[1;33m.\u001b[0m\u001b[0madd_line\u001b[0m\u001b[1;33m(\u001b[0m\u001b[0mline\u001b[0m\u001b[1;33m)\u001b[0m\u001b[1;33m\u001b[0m\u001b[0m\n\u001b[0;32m   1429\u001b[0m             \u001b[0mlines\u001b[0m\u001b[1;33m.\u001b[0m\u001b[0mappend\u001b[0m\u001b[1;33m(\u001b[0m\u001b[0mline\u001b[0m\u001b[1;33m)\u001b[0m\u001b[1;33m\u001b[0m\u001b[0m\n",
      "\u001b[1;32mC:\\Users\\ado\\Anaconda3\\lib\\site-packages\\matplotlib\\axes\\_base.py\u001b[0m in \u001b[0;36m_grab_next_args\u001b[1;34m(self, *args, **kwargs)\u001b[0m\n\u001b[0;32m    384\u001b[0m                 \u001b[1;32mreturn\u001b[0m\u001b[1;33m\u001b[0m\u001b[0m\n\u001b[0;32m    385\u001b[0m             \u001b[1;32mif\u001b[0m \u001b[0mlen\u001b[0m\u001b[1;33m(\u001b[0m\u001b[0mremaining\u001b[0m\u001b[1;33m)\u001b[0m \u001b[1;33m<=\u001b[0m \u001b[1;36m3\u001b[0m\u001b[1;33m:\u001b[0m\u001b[1;33m\u001b[0m\u001b[0m\n\u001b[1;32m--> 386\u001b[1;33m                 \u001b[1;32mfor\u001b[0m \u001b[0mseg\u001b[0m \u001b[1;32min\u001b[0m \u001b[0mself\u001b[0m\u001b[1;33m.\u001b[0m\u001b[0m_plot_args\u001b[0m\u001b[1;33m(\u001b[0m\u001b[0mremaining\u001b[0m\u001b[1;33m,\u001b[0m \u001b[0mkwargs\u001b[0m\u001b[1;33m)\u001b[0m\u001b[1;33m:\u001b[0m\u001b[1;33m\u001b[0m\u001b[0m\n\u001b[0m\u001b[0;32m    387\u001b[0m                     \u001b[1;32myield\u001b[0m \u001b[0mseg\u001b[0m\u001b[1;33m\u001b[0m\u001b[0m\n\u001b[0;32m    388\u001b[0m                 \u001b[1;32mreturn\u001b[0m\u001b[1;33m\u001b[0m\u001b[0m\n",
      "\u001b[1;32mC:\\Users\\ado\\Anaconda3\\lib\\site-packages\\matplotlib\\axes\\_base.py\u001b[0m in \u001b[0;36m_plot_args\u001b[1;34m(self, tup, kwargs)\u001b[0m\n\u001b[0;32m    362\u001b[0m             \u001b[0mx\u001b[0m\u001b[1;33m,\u001b[0m \u001b[0my\u001b[0m \u001b[1;33m=\u001b[0m \u001b[0mindex_of\u001b[0m\u001b[1;33m(\u001b[0m\u001b[0mtup\u001b[0m\u001b[1;33m[\u001b[0m\u001b[1;33m-\u001b[0m\u001b[1;36m1\u001b[0m\u001b[1;33m]\u001b[0m\u001b[1;33m)\u001b[0m\u001b[1;33m\u001b[0m\u001b[0m\n\u001b[0;32m    363\u001b[0m \u001b[1;33m\u001b[0m\u001b[0m\n\u001b[1;32m--> 364\u001b[1;33m         \u001b[0mx\u001b[0m\u001b[1;33m,\u001b[0m \u001b[0my\u001b[0m \u001b[1;33m=\u001b[0m \u001b[0mself\u001b[0m\u001b[1;33m.\u001b[0m\u001b[0m_xy_from_xy\u001b[0m\u001b[1;33m(\u001b[0m\u001b[0mx\u001b[0m\u001b[1;33m,\u001b[0m \u001b[0my\u001b[0m\u001b[1;33m)\u001b[0m\u001b[1;33m\u001b[0m\u001b[0m\n\u001b[0m\u001b[0;32m    365\u001b[0m \u001b[1;33m\u001b[0m\u001b[0m\n\u001b[0;32m    366\u001b[0m         \u001b[1;32mif\u001b[0m \u001b[0mself\u001b[0m\u001b[1;33m.\u001b[0m\u001b[0mcommand\u001b[0m \u001b[1;33m==\u001b[0m \u001b[1;34m'plot'\u001b[0m\u001b[1;33m:\u001b[0m\u001b[1;33m\u001b[0m\u001b[0m\n",
      "\u001b[1;32mC:\\Users\\ado\\Anaconda3\\lib\\site-packages\\matplotlib\\axes\\_base.py\u001b[0m in \u001b[0;36m_xy_from_xy\u001b[1;34m(self, x, y)\u001b[0m\n\u001b[0;32m    221\u001b[0m         \u001b[0my\u001b[0m \u001b[1;33m=\u001b[0m \u001b[0m_check_1d\u001b[0m\u001b[1;33m(\u001b[0m\u001b[0my\u001b[0m\u001b[1;33m)\u001b[0m\u001b[1;33m\u001b[0m\u001b[0m\n\u001b[0;32m    222\u001b[0m         \u001b[1;32mif\u001b[0m \u001b[0mx\u001b[0m\u001b[1;33m.\u001b[0m\u001b[0mshape\u001b[0m\u001b[1;33m[\u001b[0m\u001b[1;36m0\u001b[0m\u001b[1;33m]\u001b[0m \u001b[1;33m!=\u001b[0m \u001b[0my\u001b[0m\u001b[1;33m.\u001b[0m\u001b[0mshape\u001b[0m\u001b[1;33m[\u001b[0m\u001b[1;36m0\u001b[0m\u001b[1;33m]\u001b[0m\u001b[1;33m:\u001b[0m\u001b[1;33m\u001b[0m\u001b[0m\n\u001b[1;32m--> 223\u001b[1;33m             \u001b[1;32mraise\u001b[0m \u001b[0mValueError\u001b[0m\u001b[1;33m(\u001b[0m\u001b[1;34m\"x and y must have same first dimension\"\u001b[0m\u001b[1;33m)\u001b[0m\u001b[1;33m\u001b[0m\u001b[0m\n\u001b[0m\u001b[0;32m    224\u001b[0m         \u001b[1;32mif\u001b[0m \u001b[0mx\u001b[0m\u001b[1;33m.\u001b[0m\u001b[0mndim\u001b[0m \u001b[1;33m>\u001b[0m \u001b[1;36m2\u001b[0m \u001b[1;32mor\u001b[0m \u001b[0my\u001b[0m\u001b[1;33m.\u001b[0m\u001b[0mndim\u001b[0m \u001b[1;33m>\u001b[0m \u001b[1;36m2\u001b[0m\u001b[1;33m:\u001b[0m\u001b[1;33m\u001b[0m\u001b[0m\n\u001b[0;32m    225\u001b[0m             \u001b[1;32mraise\u001b[0m \u001b[0mValueError\u001b[0m\u001b[1;33m(\u001b[0m\u001b[1;34m\"x and y can be no greater than 2-D\"\u001b[0m\u001b[1;33m)\u001b[0m\u001b[1;33m\u001b[0m\u001b[0m\n",
      "\u001b[1;31mValueError\u001b[0m: x and y must have same first dimension"
     ]
    }
   ],
   "source": [
    "OMG = sp.Symbol('OMG', real = True)\n",
    "\n",
    "RE1 = W[0].subs(Omega, OMG)\n",
    "\n",
    "RE2 = W[1].subs(Omega, OMG)\n",
    "\n",
    "RE3 = W[2].subs(Omega, OMG)\n",
    "\n",
    "display(RE1)\n",
    "\n",
    "OMG = np.linspace(0, 9000, 20)\n",
    "\n",
    "RE11 = str(RE1)\n",
    "print(RE11)\n",
    "RE11 = -111.341090910707/(-0.000142602833219149*OMG**2 + 29.1910785488548)\n",
    "\n",
    "print(RE11)\n",
    "print(OMG)\n",
    "\n",
    "RE2\n",
    "\n",
    "RE3\n",
    "\n",
    "RE = RE1 + RE2 + RE3\n",
    "\n",
    "#Plot of numerical and analytical solutions\n",
    "fig = plt.figure(figsize = (15,8))\n",
    "\n",
    "plt.plot(OMG, RE, 'b-', label = 'Mode = 1') #FFT solution plot\n",
    "\n",
    "plt.legend(loc = 'upper right')\n",
    "fig.suptitle('Mode Shapes', fontsize = 14)\n",
    "plt.xlabel('Distance from end')\n",
    "plt.ylabel('Displacement $w$, (arbitrary)')\n",
    "\n",
    "plt.grid()\n",
    "plt.show()"
   ]
  },
  {
   "cell_type": "code",
   "execution_count": 198,
   "metadata": {
    "collapsed": false
   },
   "outputs": [
    {
     "data": {
      "text/latex": [
       "$$0.00577821667929493$$"
      ],
      "text/plain": [
       "0.00577821667929493"
      ]
     },
     "execution_count": 198,
     "metadata": {},
     "output_type": "execute_result"
    }
   ],
   "source": [
    "y = sp.Symbol('y', real = True)\n",
    "\n",
    "# constant for defining mode\n",
    "m = 0\n",
    "\n",
    "# calculate k1\n",
    "k1 = knL[m]/L\n",
    "\n",
    "# define constant\n",
    "c=1\n",
    "\n",
    "# equation for mode shapes\n",
    "mode1 = (c/(sp.sin(knL[m]) + sp.sinh(knL[m])))*\\\n",
    "        ((sp.sin(k1*y) - sp.sinh(k1*y))*(sp.cos(knL[m]) + sp.cosh(knL[m])))\\\n",
    "        -c*sp.cos(k1*y) + c*sp.cosh(k1*y)\n",
    "        \n",
    "sp.integrate(mode1, (y, 0, 1))"
   ]
  },
  {
   "cell_type": "code",
   "execution_count": 240,
   "metadata": {
    "collapsed": false
   },
   "outputs": [
    {
     "name": "stdout",
     "output_type": "stream",
     "text": [
      "0\n",
      "1\n",
      "2\n"
     ]
    },
    {
     "data": {
      "text/latex": [
       "$$\\left [ - \\frac{20.0004311335773}{- 1.59208273804841 \\cdot 10^{-9} \\Omega^{2} + 0.000325902446771347}, \\quad - \\frac{20.0022735651355}{- 8.82265495180691 \\cdot 10^{-5} \\Omega^{2} + 709.30174454091}, \\quad - \\frac{20.0008437270924}{- 5.46437322320838 \\cdot 10^{-10} \\Omega^{2} + 0.0344415667338696}\\right ]$$"
      ],
      "text/plain": [
       "⎡                -20.0004311335773                                 -20.0022735\n",
       "⎢──────────────────────────────────────────────────, ─────────────────────────\n",
       "⎢                          2                                                  \n",
       "⎣- - -1.59208273804841e-9⋅Ω  + 0.000325902446771347  - - -8.82265495180691e-5⋅\n",
       "\n",
       "651355                                -20.0008437270924                ⎤\n",
       "────────────────────, ─────────────────────────────────────────────────⎥\n",
       " 2                                               2                     ⎥\n",
       "Ω  + 709.30174454091  - - -5.46437322320838e-10⋅Ω  + 0.0344415667338696⎦"
      ]
     },
     "execution_count": 240,
     "metadata": {},
     "output_type": "execute_result"
    }
   ],
   "source": [
    "y = sp.Symbol('y', real = True)\n",
    "Omega = sp.Symbol('Omega', real = True)\n",
    "\n",
    "L = 0.03 #meters\n",
    "b = 0.005 #meters\n",
    "h = 0.0005 #meters\n",
    "rho = 2711 #meters\n",
    "E = 6.89e10 #Pa\n",
    "A = b*h #meters**2\n",
    "Ix = (b*h**3)/12 #meters**4\n",
    "\n",
    "P = -5 # Newtons\n",
    "\n",
    "# define constant\n",
    "c=1\n",
    "\n",
    "omg=[452.44, 2835.41, 7939.1]\n",
    "\n",
    "W=[]\n",
    "\n",
    "# equation for mode shapes\n",
    "for i in range(0, 3):\n",
    "    ki = knL[i]/L\n",
    "    mi = A*rho*sp.integrate((c/(sp.sin(knL[i]) + sp.sinh(knL[i])))*\\\n",
    "        ((sp.sin(ki*y) - sp.sinh(ki*y))*(sp.cos(knL[i]) + sp.cosh(knL[i])))\\\n",
    "        -c*sp.cos(ki*y) + c*sp.cosh(ki*y), (y, 0, L))\n",
    "\n",
    "    Xi = (c/(np.sin(knL[i]) + np.sinh(knL[i])))*\\\n",
    "        ((np.sin(knL[i]) - np.sinh(knL[i]))*(np.cos(knL[i]) + np.cosh(knL[i])))\\\n",
    "        -c*np.cos(knL[i]) + c*np.cosh(knL[i])\n",
    "        \n",
    "    ci = (P*Xi)/(mi*(omg[i]**2-Omega**2))\n",
    "    \n",
    "    wi = ci*Xi\n",
    "    \n",
    "    #wi = wi + wi\n",
    "    \n",
    "    W.append(wi)\n",
    "    print(i)\n",
    "W"
   ]
  },
  {
   "cell_type": "code",
   "execution_count": 202,
   "metadata": {
    "collapsed": false
   },
   "outputs": [
    {
     "data": {
      "text/latex": [
       "$$452.44$$"
      ],
      "text/plain": [
       "452.44"
      ]
     },
     "execution_count": 202,
     "metadata": {},
     "output_type": "execute_result"
    }
   ],
   "source": [
    "omg=[452.44, 2835.41, 7939.1]\n",
    "omg[0]"
   ]
  },
  {
   "cell_type": "code",
   "execution_count": null,
   "metadata": {
    "collapsed": true
   },
   "outputs": [],
   "source": []
  }
 ],
 "metadata": {
  "kernelspec": {
   "display_name": "Python 3",
   "language": "python",
   "name": "python3"
  },
  "language_info": {
   "codemirror_mode": {
    "name": "ipython",
    "version": 3
   },
   "file_extension": ".py",
   "mimetype": "text/x-python",
   "name": "python",
   "nbconvert_exporter": "python",
   "pygments_lexer": "ipython3",
   "version": "3.5.1"
  }
 },
 "nbformat": 4,
 "nbformat_minor": 0
}
