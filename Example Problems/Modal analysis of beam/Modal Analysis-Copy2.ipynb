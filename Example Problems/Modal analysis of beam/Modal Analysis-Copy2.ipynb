{
 "cells": [
  {
   "cell_type": "code",
   "execution_count": 2,
   "metadata": {
    "collapsed": false,
    "run_control": {
     "marked": false
    }
   },
   "outputs": [],
   "source": [
    "import sympy as sp\n",
    "sp.init_printing(use_latex='mathjax')\n",
    "from IPython.display import display\n",
    "import numpy as np\n",
    "\n",
    "kn = sp.Symbol('k_n', real = True)\n",
    "lamb = sp.Symbol('lambda', real = True)\n",
    "omegan = sp.Symbol('omega_n', real = True)\n",
    "E = sp.Symbol('E', real = True)\n",
    "I = sp.Symbol('I', real = True)\n",
    "L = sp.Symbol('L', real = True)\n",
    "w = sp.Symbol('w', real = True)\n",
    "x = sp.Symbol('x', real = True)\n",
    "q = sp.Symbol('q', real = True)\n",
    "t = sp.Symbol('t', real = True)\n",
    "X = sp.Symbol('X', real = True)\n",
    "f = sp.Symbol('f', real = True)\n",
    "A1 = sp.Symbol('A_1', real = True)\n",
    "A2 = sp.Symbol('A_2', real = True)\n",
    "A3 = sp.Symbol('A_3', real = True)\n",
    "A4 = sp.Symbol('A_4', real = True)"
   ]
  },
  {
   "cell_type": "markdown",
   "metadata": {},
   "source": [
    "For a homogeneous Euler-Bernoulli beam the equation of motion is:"
   ]
  },
  {
   "cell_type": "code",
   "execution_count": 3,
   "metadata": {
    "collapsed": false
   },
   "outputs": [
    {
     "data": {
      "text/latex": [
       "$$E I \\frac{\\partial^{4}}{\\partial x^{4}}  w{\\left (x,t \\right )} + \\lambda \\frac{\\partial^{2}}{\\partial t^{2}}  w{\\left (x,t \\right )} - q$$"
      ],
      "text/plain": [
       "      4                2             \n",
       "     ∂                ∂              \n",
       "E⋅I⋅───(w(x, t)) + λ⋅───(w(x, t)) - q\n",
       "      4                2             \n",
       "    ∂x               ∂t              "
      ]
     },
     "execution_count": 3,
     "metadata": {},
     "output_type": "execute_result"
    }
   ],
   "source": [
    "E*I*sp.diff(w(x, t), x, 4) + lamb*sp.diff(w(x, t), t, 2) - q"
   ]
  },
  {
   "cell_type": "markdown",
   "metadata": {},
   "source": [
    "The free vibration case reduces to:"
   ]
  },
  {
   "cell_type": "code",
   "execution_count": 4,
   "metadata": {
    "collapsed": false
   },
   "outputs": [
    {
     "data": {
      "text/latex": [
       "$$E I \\frac{\\partial^{4}}{\\partial x^{4}}  w{\\left (x,t \\right )} + \\lambda \\frac{\\partial^{2}}{\\partial t^{2}}  w{\\left (x,t \\right )}$$"
      ],
      "text/plain": [
       "      4                2         \n",
       "     ∂                ∂          \n",
       "E⋅I⋅───(w(x, t)) + λ⋅───(w(x, t))\n",
       "      4                2         \n",
       "    ∂x               ∂t          "
      ]
     },
     "execution_count": 4,
     "metadata": {},
     "output_type": "execute_result"
    }
   ],
   "source": [
    "Eq = E*I*sp.diff(w(x, t), x, 4) + lamb*sp.diff(w(x, t), t, 2)\n",
    "Eq"
   ]
  },
  {
   "cell_type": "markdown",
   "metadata": {},
   "source": [
    "Assume following form of $w(x,t) = X(x)f(t)$"
   ]
  },
  {
   "cell_type": "code",
   "execution_count": 5,
   "metadata": {
    "collapsed": false
   },
   "outputs": [
    {
     "data": {
      "text/latex": [
       "$$E I f{\\left (t \\right )} \\frac{d^{4}}{d x^{4}}  X{\\left (x \\right )} + \\lambda X{\\left (x \\right )} \\frac{d^{2}}{d t^{2}}  f{\\left (t \\right )}$$"
      ],
      "text/plain": [
       "           4                  2      \n",
       "          d                  d       \n",
       "E⋅I⋅f(t)⋅───(X(x)) + λ⋅X(x)⋅───(f(t))\n",
       "           4                  2      \n",
       "         dx                 dt       "
      ]
     },
     "execution_count": 5,
     "metadata": {},
     "output_type": "execute_result"
    }
   ],
   "source": [
    "Eq = E*I*sp.diff(X(x)*f(t), x, 4) + lamb*sp.diff(X(x)*f(t), t, 2)\n",
    "Eq"
   ]
  },
  {
   "cell_type": "markdown",
   "metadata": {},
   "source": [
    "Divide above expression by $\\lambda X(x) f(t)$"
   ]
  },
  {
   "cell_type": "code",
   "execution_count": 6,
   "metadata": {
    "collapsed": false
   },
   "outputs": [
    {
     "data": {
      "text/latex": [
       "$$\\frac{E I \\frac{d^{4}}{d x^{4}}  X{\\left (x \\right )}}{\\lambda X{\\left (x \\right )}} + \\frac{\\frac{d^{2}}{d t^{2}}  f{\\left (t \\right )}}{f{\\left (t \\right )}}$$"
      ],
      "text/plain": [
       "      4           2      \n",
       "     d           d       \n",
       "E⋅I⋅───(X(x))   ───(f(t))\n",
       "      4           2      \n",
       "    dx          dt       \n",
       "───────────── + ─────────\n",
       "    λ⋅X(x)         f(t)  "
      ]
     },
     "execution_count": 6,
     "metadata": {},
     "output_type": "execute_result"
    }
   ],
   "source": [
    "Eq1 = sp.nsimplify(Eq/(lamb*X(x)*f(t)))\n",
    "Eq1.expand()"
   ]
  },
  {
   "cell_type": "markdown",
   "metadata": {},
   "source": [
    "By seperation of variables each of the terms is constant with respect to one another. This constant is defined as $\\omega_n^2$, which is the natural frequency."
   ]
  },
  {
   "cell_type": "code",
   "execution_count": 7,
   "metadata": {
    "collapsed": false
   },
   "outputs": [
    {
     "data": {
      "text/latex": [
       "$$\\frac{d^{4}}{d x^{4}}  X{\\left (x \\right )} - \\frac{\\lambda \\omega_{n}^{2}}{E I} X{\\left (x \\right )}$$"
      ],
      "text/plain": [
       "  4              2     \n",
       " d          λ⋅ω_n ⋅X(x)\n",
       "───(X(x)) - ───────────\n",
       "  4             E⋅I    \n",
       "dx                     "
      ]
     },
     "execution_count": 7,
     "metadata": {},
     "output_type": "execute_result"
    }
   ],
   "source": [
    "Eqx = (Eq1.expand().coeff((E*I)/lamb)*((E*I)/lamb)-omegan**2)*((lamb*X(x))/(E*I))\n",
    "Eqx.expand()"
   ]
  },
  {
   "cell_type": "markdown",
   "metadata": {},
   "source": [
    "Above experssion in terms of $x$ can be used to solve for natural frequencies and mode shapes. Following expression satisfies the expression."
   ]
  },
  {
   "cell_type": "code",
   "execution_count": 8,
   "metadata": {
    "collapsed": false
   },
   "outputs": [
    {
     "data": {
      "text/latex": [
       "$$A_{1} \\sin{\\left (k_{n} x \\right )} + A_{2} \\cos{\\left (k_{n} x \\right )} + A_{3} \\sinh{\\left (k_{n} x \\right )} + A_{4} \\cosh{\\left (k_{n} x \\right )}$$"
      ],
      "text/plain": [
       "A₁⋅sin(k_n⋅x) + A₂⋅cos(k_n⋅x) + A₃⋅sinh(k_n⋅x) + A₄⋅cosh(k_n⋅x)"
      ]
     },
     "execution_count": 8,
     "metadata": {},
     "output_type": "execute_result"
    }
   ],
   "source": [
    "w = A1*sp.sin(kn*x) + A2*sp.cos(kn*x) + A3*sp.sinh(kn*x) + A4*sp.cosh(kn*x)\n",
    "w"
   ]
  },
  {
   "cell_type": "markdown",
   "metadata": {},
   "source": [
    "Where $k_n^4 = \\frac{\\lambda \\omega_n^2}{EI}$"
   ]
  },
  {
   "cell_type": "markdown",
   "metadata": {},
   "source": [
    "For cantilevered beam, following B.C.'s are used:\n",
    "- $w\\ =\\ 0$ at $x=0$, zero displacement  \n",
    "- $\\frac{dw}{dx} = 0$ at $x=0$, zero slope\n",
    "- $\\frac{d^2w}{dx^2} = 0$ at $x=L$, zero bending moment\n",
    "- $\\frac{d^3w}{dx^3} = 0$ at $x=L$, zero shear"
   ]
  },
  {
   "cell_type": "markdown",
   "metadata": {},
   "source": [
    "For first B.C. $w\\ =\\ 0$ at $x=0$"
   ]
  },
  {
   "cell_type": "code",
   "execution_count": 9,
   "metadata": {
    "collapsed": false
   },
   "outputs": [
    {
     "data": {
      "text/latex": [
       "$$A_{2} + A_{4}$$"
      ],
      "text/plain": [
       "A₂ + A₄"
      ]
     },
     "execution_count": 9,
     "metadata": {},
     "output_type": "execute_result"
    }
   ],
   "source": [
    "w1 = w.subs(x, 0)\n",
    "w1"
   ]
  },
  {
   "cell_type": "markdown",
   "metadata": {},
   "source": [
    "For second B.C. $\\frac{dw}{dx} = 0$ at $x=0$"
   ]
  },
  {
   "cell_type": "code",
   "execution_count": 10,
   "metadata": {
    "collapsed": false
   },
   "outputs": [
    {
     "data": {
      "text/latex": [
       "$$A_{1} k_{n} + A_{3} k_{n}$$"
      ],
      "text/plain": [
       "A₁⋅k_n + A₃⋅k_n"
      ]
     },
     "execution_count": 10,
     "metadata": {},
     "output_type": "execute_result"
    }
   ],
   "source": [
    "w2 = sp.diff(w, x).subs(x, 0)\n",
    "w2"
   ]
  },
  {
   "cell_type": "markdown",
   "metadata": {},
   "source": [
    "For third B.C. $\\frac{d^2w}{dx^2} = 0$ at $x=L$"
   ]
  },
  {
   "cell_type": "code",
   "execution_count": 11,
   "metadata": {
    "collapsed": false
   },
   "outputs": [
    {
     "data": {
      "text/latex": [
       "$$- A_{1} k_{n}^{2} \\sin{\\left (L k_{n} \\right )} - A_{2} k_{n}^{2} \\cos{\\left (L k_{n} \\right )} + A_{3} k_{n}^{2} \\sinh{\\left (L k_{n} \\right )} + A_{4} k_{n}^{2} \\cosh{\\left (L k_{n} \\right )}$$"
      ],
      "text/plain": [
       "        2                    2                    2                     2     \n",
       "- A₁⋅k_n ⋅sin(L⋅k_n) - A₂⋅k_n ⋅cos(L⋅k_n) + A₃⋅k_n ⋅sinh(L⋅k_n) + A₄⋅k_n ⋅cosh\n",
       "\n",
       "       \n",
       "(L⋅k_n)"
      ]
     },
     "execution_count": 11,
     "metadata": {},
     "output_type": "execute_result"
    }
   ],
   "source": [
    "w3 = sp.diff(w, x, 2).subs(x, L)\n",
    "w3.expand()"
   ]
  },
  {
   "cell_type": "markdown",
   "metadata": {},
   "source": [
    "Sub in following relationships and solve for $A_3$:\n",
    "- $A_1$ = $-A_3$\n",
    "- $A_2$ = $-A_4$"
   ]
  },
  {
   "cell_type": "code",
   "execution_count": 12,
   "metadata": {
    "collapsed": false
   },
   "outputs": [
    {
     "data": {
      "text/latex": [
       "$$- \\frac{A_{4} \\left(\\cos{\\left (L k_{n} \\right )} + \\cosh{\\left (L k_{n} \\right )}\\right)}{\\sin{\\left (L k_{n} \\right )} + \\sinh{\\left (L k_{n} \\right )}}$$"
      ],
      "text/plain": [
       "-A₄⋅(cos(L⋅k_n) + cosh(L⋅k_n)) \n",
       "───────────────────────────────\n",
       "    sin(L⋅k_n) + sinh(L⋅k_n)   "
      ]
     },
     "execution_count": 12,
     "metadata": {},
     "output_type": "execute_result"
    }
   ],
   "source": [
    "w3s = sp.solve(w3.expand().subs(A1, -A3).subs(A2, -A4), A3)\n",
    "A3s=w3s[0]\n",
    "A3s"
   ]
  },
  {
   "cell_type": "markdown",
   "metadata": {},
   "source": [
    "For fourth B.C. $\\frac{d^3w}{dx^3} = 0$ at $x=L$"
   ]
  },
  {
   "cell_type": "code",
   "execution_count": 13,
   "metadata": {
    "collapsed": false
   },
   "outputs": [
    {
     "data": {
      "text/latex": [
       "$$- A_{1} k_{n}^{3} \\cos{\\left (L k_{n} \\right )} + A_{2} k_{n}^{3} \\sin{\\left (L k_{n} \\right )} + A_{3} k_{n}^{3} \\cosh{\\left (L k_{n} \\right )} + A_{4} k_{n}^{3} \\sinh{\\left (L k_{n} \\right )}$$"
      ],
      "text/plain": [
       "        3                    3                    3                     3     \n",
       "- A₁⋅k_n ⋅cos(L⋅k_n) + A₂⋅k_n ⋅sin(L⋅k_n) + A₃⋅k_n ⋅cosh(L⋅k_n) + A₄⋅k_n ⋅sinh\n",
       "\n",
       "       \n",
       "(L⋅k_n)"
      ]
     },
     "execution_count": 13,
     "metadata": {},
     "output_type": "execute_result"
    }
   ],
   "source": [
    "w4 = sp.diff(w, x, 3).subs(x, L)\n",
    "w4.expand()"
   ]
  },
  {
   "cell_type": "markdown",
   "metadata": {},
   "source": [
    "Sub in following relationships and solve for $A_4$:\n",
    "- $A_1$ = $-A_3$\n",
    "- $A_2$ = $-A_4$"
   ]
  },
  {
   "cell_type": "code",
   "execution_count": 14,
   "metadata": {
    "collapsed": false
   },
   "outputs": [
    {
     "data": {
      "text/latex": [
       "$$\\frac{A_{3} \\left(\\cos{\\left (L k_{n} \\right )} + \\cosh{\\left (L k_{n} \\right )}\\right)}{\\sin{\\left (L k_{n} \\right )} - \\sinh{\\left (L k_{n} \\right )}}$$"
      ],
      "text/plain": [
       "A₃⋅(cos(L⋅k_n) + cosh(L⋅k_n))\n",
       "─────────────────────────────\n",
       "   sin(L⋅k_n) - sinh(L⋅k_n)  "
      ]
     },
     "execution_count": 14,
     "metadata": {},
     "output_type": "execute_result"
    }
   ],
   "source": [
    "w4s = sp.solve(w4.expand().subs(A1, -A3).subs(A2, -A4), A4)\n",
    "A4s=w4s[0]\n",
    "A4s"
   ]
  },
  {
   "cell_type": "markdown",
   "metadata": {},
   "source": [
    "**In next step, expression derived above for $A_1,\\ A_2$ and $A_3$ can be plugged into equation for $A_4$ ($4^{th}$ boundary condition) to get following term.**"
   ]
  },
  {
   "cell_type": "code",
   "execution_count": 15,
   "metadata": {
    "collapsed": false
   },
   "outputs": [
    {
     "data": {
      "text/latex": [
       "$$- \\frac{2 A_{4} k_{n}^{3} \\left(\\cos{\\left (L k_{n} \\right )} \\cosh{\\left (L k_{n} \\right )} + 1\\right)}{\\sin{\\left (L k_{n} \\right )} + \\sinh{\\left (L k_{n} \\right )}}$$"
      ],
      "text/plain": [
       "         3                              \n",
       "-2⋅A₄⋅k_n ⋅(cos(L⋅k_n)⋅cosh(L⋅k_n) + 1) \n",
       "────────────────────────────────────────\n",
       "        sin(L⋅k_n) + sinh(L⋅k_n)        "
      ]
     },
     "execution_count": 15,
     "metadata": {},
     "output_type": "execute_result"
    }
   ],
   "source": [
    "test = w4.subs(A3, A3s).subs(A1, -A3s).subs(A2, -A4)\n",
    "test.simplify()"
   ]
  },
  {
   "cell_type": "markdown",
   "metadata": {},
   "source": [
    "**From this term it is evident that non trivial solutions exist only if $cos(Lk_n)cosh(Lk_n) + 1 = 0$. This equation can be solved numerically for roots of $Lk_n$, which will yield the natural frequencies.**  \n",
    "\n",
    "**First 6 solutions are numerically determined below:**"
   ]
  },
  {
   "cell_type": "code",
   "execution_count": 28,
   "metadata": {
    "collapsed": false
   },
   "outputs": [
    {
     "name": "stdout",
     "output_type": "stream",
     "text": [
      "[1.8751187511875118, 4.6941469414694144, 7.8547785477854788, 10.99560995609956, 14.137241372413726, 17.278672786727867]\n"
     ]
    }
   ],
   "source": [
    "x2=np.linspace(0, 20, 100000)\n",
    "\n",
    "#print(x)\n",
    "\n",
    "Y=np.cos(x2)*np.cosh(x2)+1\n",
    "\n",
    "S = len(Y)\n",
    "knL = []\n",
    "for i in range(S-1):\n",
    "    if Y[i]<0.0 and Y[i-1]>0:\n",
    "        #print('First Condition')\n",
    "        #print('Fun Values =', Y[i], Y[i-1])\n",
    "        #print('Wave Num Values =', x[i], x[i-1])\n",
    "        value = (x2[i] + x2[i-1])/2\n",
    "        #print(value)\n",
    "        knL.append(value)\n",
    "    elif Y[i]>0 and Y[i-1]<0:\n",
    "        #print('Second Condition')\n",
    "        #print('Fun Values =', Y[i], Y[i-1])\n",
    "        #print('Wave Num Values =', x[i], x[i-1])\n",
    "        value = (x2[i] + x2[i-1])/2\n",
    "        #print(value)\n",
    "        knL.append(value)\n",
    "print(knL)"
   ]
  },
  {
   "cell_type": "markdown",
   "metadata": {},
   "source": [
    "**For a cantilever beam with following properties, the first 6 natural frequencies in Hz are calculated below using following expression $\\omega_n = k_n^2 \\sqrt{\\frac{EI}{\\rho A}}$, since $k_n L = x$, the formula can be expressed as $\\omega_n = \\frac{x^2}{L^2} \\sqrt{\\frac{EI}{\\rho A}}$**  \n",
    "\n",
    "- L = 1 m\n",
    "- b = 0.05 m\n",
    "- h = 0.05 m\n",
    "- $\\rho$ = 2711 $\\frac{kg}{m^3}$ (Aluminum density)\n",
    "- E = $6.89^{10}$ Pa"
   ]
  },
  {
   "cell_type": "code",
   "execution_count": 41,
   "metadata": {
    "collapsed": false
   },
   "outputs": [
    {
     "name": "stdout",
     "output_type": "stream",
     "text": [
      "52.1463412903298\n",
      "326.798195381564\n",
      "915.027570378146\n",
      "1793.10177655704\n",
      "2964.11899949365\n",
      "4427.79035320400\n"
     ]
    }
   ],
   "source": [
    "L = 1\n",
    "b = 0.05\n",
    "h = 0.05\n",
    "rho = 2711\n",
    "E = 6.89e10\n",
    "A = b*h-(0.04**2)\n",
    "Ix = (b*h**3)/12 - (0.04**4)/12\n",
    "\n",
    "for j in range(len(knL)):\n",
    "    omega = ((knL[j]**2/L**2)*sp.sqrt((E*Ix)/(rho*A)))/(2*np.pi)\n",
    "\n",
    "    print(omega)"
   ]
  },
  {
   "cell_type": "markdown",
   "metadata": {},
   "source": [
    "### **Next step is to obtain mode shapes for the above requencies.**\n",
    "\n",
    "**Plugging in expressions for $A_1,\\ A_2,\\ A_3,\\ A_4$ into the assumed solution for $w$ based on the prescribed boundary conditions yields the equation for the mode shapes**"
   ]
  },
  {
   "cell_type": "code",
   "execution_count": 18,
   "metadata": {
    "collapsed": false
   },
   "outputs": [
    {
     "data": {
      "text/latex": [
       "$$\\frac{A_{4}}{\\sin{\\left (L k_{n} \\right )} + \\sinh{\\left (L k_{n} \\right )}} \\left(\\sin{\\left (k_{n} x \\right )} - \\sinh{\\left (k_{n} x \\right )}\\right) \\left(\\cos{\\left (L k_{n} \\right )} + \\cosh{\\left (L k_{n} \\right )}\\right)$$"
      ],
      "text/plain": [
       "A₄⋅(sin(k_n⋅x) - sinh(k_n⋅x))⋅(cos(L⋅k_n) + cosh(L⋅k_n))\n",
       "────────────────────────────────────────────────────────\n",
       "                sin(L⋅k_n) + sinh(L⋅k_n)                "
      ]
     },
     "metadata": {},
     "output_type": "display_data"
    },
    {
     "data": {
      "text/latex": [
       "$$- A_{4} \\cos{\\left (k_{n} x \\right )} + A_{4} \\cosh{\\left (k_{n} x \\right )}$$"
      ],
      "text/plain": [
       "-A₄⋅cos(k_n⋅x) + A₄⋅cosh(k_n⋅x)"
      ]
     },
     "metadata": {},
     "output_type": "display_data"
    }
   ],
   "source": [
    "ws1 = (-A3s*sp.sin(kn*x)+A3s*sp.sinh(kn*x)).factor()\n",
    "ws2 = -A4*sp.cos(kn*x)+A4*sp.cosh(kn*x)\n",
    "display(ws1)\n",
    "display(ws2)\n",
    "ws = (ws1+ws2).simplify()"
   ]
  },
  {
   "cell_type": "markdown",
   "metadata": {},
   "source": [
    "**Constant $A_4$, which is unique for each frequency, is considered arbitrary in this context since we are only after the mode shape. To plot mode shapes it is customary to use $A_4$ = $\\frac{1}{2}$.**"
   ]
  },
  {
   "cell_type": "code",
   "execution_count": 49,
   "metadata": {
    "collapsed": false
   },
   "outputs": [],
   "source": [
    "import matplotlib.pyplot as plt\n",
    "import numpy as np\n",
    "#define beam lenght as array\n",
    "x1=np.linspace(0, 1, 500)\n",
    "\n",
    "# constant for defining mode\n",
    "m = 3\n",
    "\n",
    "# calculate k1\n",
    "k1 = knL[m]/L\n",
    "\n",
    "# define constant\n",
    "c=0.5\n",
    "\n",
    "# equation for mode shapes\n",
    "mode1 = (c/(np.sin(knL[m]) + np.sinh(knL[m])))*\\\n",
    "        ((np.sin(k1*x1) - np.sinh(k1*x1))*(np.cos(knL[m]) + np.cosh(knL[m])))\\\n",
    "        -c*np.cos(k1*x1) + c*np.cosh(k1*x1)\n",
    "\n",
    "#Plot of numerical and analytical solutions\n",
    "fig = plt.figure(figsize = (15,8))\n",
    "\n",
    "plt.plot(x1, mode1, 'b-', label = 'Mode = 1', linewidth = 4) #FFT solution plot\n",
    "\n",
    "plt.legend(loc = 'upper right')\n",
    "fig.suptitle('Mode Shapes', fontsize = 14)\n",
    "plt.xlabel('Distance from end')\n",
    "plt.ylabel('Displacement $w$, (arbitrary)')\n",
    "plt.axis([-0.2, 1.1, -1.5, 1.5])\n",
    "\n",
    "#plt.grid()\n",
    "plt.show()"
   ]
  },
  {
   "cell_type": "markdown",
   "metadata": {
    "collapsed": true
   },
   "source": [
    "** For a periodic loading on the end of the cantilever beam $F = Pcos(\\Omega t)$, the deflection is given by the eigenfunction expansion seen below.**\n",
    "\n",
    "**$w(x, t) = \\Sigma^{\\infty}_{n=1} c_n X_n(x)cos(\\Omega t)$**  \n",
    "**Where**  \n",
    "**$X_n(x) = -\\cos{\\left (k_{n} x \\right )} + \\cosh{\\left (k_{n} x \\right )} + \\frac{1}{\\sin{\\left (L k_{n} \\right )} + \\sinh{\\left (L k_{n} \\right )}} \\left(\\sin{\\left (k_{n} x \\right )} - \\sinh{\\left (k_{n} x \\right )}\\right) \\left(\\cos{\\left (L k_{n} \\right )} + \\cosh{\\left (L k_{n} \\right )}\\right)$**  \n",
    "**$c_n = \\frac{PX_n(L)}{m_n(\\omega_n^2 - \\Omega^2)}$**  \n",
    "**$m_n = A\\rho \\int_0^L X_n^2(x)dx$**\n",
    "\n",
    "** Interested in the max displacement at $x=L$. Therefore, $cos(\\Omega t) = 1$.**"
   ]
  },
  {
   "cell_type": "markdown",
   "metadata": {},
   "source": [
    "## Solution for rectangular hollow beam:"
   ]
  },
  {
   "cell_type": "code",
   "execution_count": 32,
   "metadata": {
    "collapsed": false
   },
   "outputs": [
    {
     "name": "stdout",
     "output_type": "stream",
     "text": [
      "0\n",
      "1\n",
      "2\n"
     ]
    },
    {
     "data": {
      "text/latex": [
       "$$\\left [ - \\frac{7422.73939404713}{- 1.71123399862979 \\Omega^{2} + 4652.12583950138}, \\quad - \\frac{3856.69383077801}{- 1.88570903916101 \\Omega^{2} + 201390.406534487}, \\quad - \\frac{4006.38025964321}{- 2.13092708239809 \\Omega^{2} + 1784065.42656074}\\right ]$$"
      ],
      "text/plain": [
       "⎡              -7422.73939404713                               -3856.693830778\n",
       "⎢──────────────────────────────────────────────, ─────────────────────────────\n",
       "⎢                          2                                               2  \n",
       "⎣- -1.71123399862979⋅(-1)⋅Ω  + 4652.12583950138  - -1.88570903916101⋅(-1)⋅Ω  +\n",
       "\n",
       "01                               -4006.38025964321               ⎤\n",
       "─────────────────, ──────────────────────────────────────────────⎥\n",
       "                                             2                   ⎥\n",
       " 201390.406534487  - -2.13092708239809⋅(-1)⋅Ω  + 1784065.42656074⎦"
      ]
     },
     "execution_count": 32,
     "metadata": {},
     "output_type": "execute_result"
    }
   ],
   "source": [
    "y = sp.Symbol('y', real = True)\n",
    "Omega = sp.Symbol('Omega', real = True)\n",
    "\n",
    "L = 1 #meters\n",
    "b = 0.05 #meters\n",
    "h = 0.05 #meters\n",
    "rho = 2711 #kg/m**3\n",
    "E = 6.89e10 #Pa\n",
    "A = b*h - 0.04**2 #meters**2\n",
    "Ix = (b*h**3)/12 - (0.04**4)/12 #meters**4\n",
    "\n",
    "P = -1000 # Newtons\n",
    "\n",
    "# define constant\n",
    "c=1\n",
    "\n",
    "omg=[52.14, 326.8, 915.0]\n",
    "\n",
    "W1=[]\n",
    "\n",
    "# equation for mode shapes\n",
    "for i in range(0, 3):\n",
    "    ki = knL[i]/L\n",
    "    mi = A*rho*sp.integrate((sp.sin(ki*y) - sp.sinh(ki*y) - ((sp.sin(knL[i]) + sp.sinh(knL[i]))\\\n",
    "                    /(sp.cos(knL[i]) + sp.cosh(knL[i])))*(sp.cos(ki*y) - sp.cosh(ki*y)))**2, (y, 0, L))\n",
    "\n",
    "    Xi = sp.sin(knL[i]) - sp.sinh(knL[i]) - ((sp.sin(knL[i]) + sp.sinh(knL[i]))\\\n",
    "                    /(sp.cos(knL[i]) + sp.cosh(knL[i])))*(sp.cos(knL[i]) - sp.cosh(knL[i]))\n",
    "        \n",
    "    ci = (P*Xi)/(mi*(omg[i]**2-Omega**2))\n",
    "    \n",
    "    wi = ci*Xi\n",
    "    \n",
    "    #wi = wi + wi\n",
    "    \n",
    "    W1.append(wi)\n",
    "    print(i)\n",
    "W1"
   ]
  },
  {
   "cell_type": "code",
   "execution_count": 40,
   "metadata": {
    "collapsed": false
   },
   "outputs": [
    {
     "name": "stdout",
     "output_type": "stream",
     "text": [
      "0.0009000000000000004\n",
      "0.05\n",
      "0.05\n",
      "2711\n",
      "3.075000000000001e-07\n"
     ]
    }
   ],
   "source": [
    "OMG = sp.Symbol('OMG', real = True)\n",
    "\n",
    "RE1 = W1[0].subs(Omega, OMG)\n",
    "#print(RE1)\n",
    "RE2 = W1[1].subs(Omega, OMG)\n",
    "\n",
    "RE3 = W1[2].subs(Omega, OMG)\n",
    "\n",
    "#display(RE1)\n",
    "\n",
    "OMG = np.linspace(0, 350, 20000)\n",
    "\n",
    "RE1s = str(RE1)\n",
    "RE2s = str(RE2)\n",
    "RE3s = str(RE3)\n",
    "\n",
    "RE11 = eval(RE1s)\n",
    "RE22 = eval(RE2s)\n",
    "RE33 = eval(RE3s)\n",
    "\n",
    "#print(RE11)\n",
    "#print(RE22)\n",
    "#print(RE33)\n",
    "#print(OMG)\n",
    "\n",
    "#print(RE11+RE22+RE33)\n",
    "\n",
    "#test = RE11**2+RE22**2+RE33**2\n",
    "#test = RE11+RE22+RE33\n",
    "test = RE11/100+RE22/100+RE33/100\n",
    "\n",
    "#Plot of numerical and analytical solutions\n",
    "fig = plt.figure(figsize = (15,8))\n",
    "\n",
    "plt.plot(OMG, test, 'b-', label = 'Response', linewidth = 4) #FFT solution plot\n",
    "\n",
    "#plt.legend(loc = 'upper right')\n",
    "fig.suptitle('FRF', fontsize = 14)\n",
    "plt.xlabel('$\\omega$', fontsize = 14)\n",
    "plt.ylabel('Displacement $w$', fontsize = 14)\n",
    "plt.axis([0, 350, -0.25, 0.25])\n",
    "\n",
    "plt.grid()\n",
    "plt.show()\n",
    "\n",
    "print(A)\n",
    "print(b)\n",
    "print(h)\n",
    "print(rho)\n",
    "print(Ix)"
   ]
  },
  {
   "cell_type": "markdown",
   "metadata": {},
   "source": [
    "## Extra Stuff "
   ]
  },
  {
   "cell_type": "code",
   "execution_count": 22,
   "metadata": {
    "collapsed": false
   },
   "outputs": [
    {
     "name": "stdout",
     "output_type": "stream",
     "text": [
      "0\n",
      "1\n",
      "2\n"
     ]
    },
    {
     "ename": "NameError",
     "evalue": "name 'W2' is not defined",
     "output_type": "error",
     "traceback": [
      "\u001b[1;31m---------------------------------------------------------------------------\u001b[0m",
      "\u001b[1;31mNameError\u001b[0m                                 Traceback (most recent call last)",
      "\u001b[1;32m<ipython-input-22-98ee761b6222>\u001b[0m in \u001b[0;36m<module>\u001b[1;34m()\u001b[0m\n\u001b[0;32m     34\u001b[0m     \u001b[0mW\u001b[0m\u001b[1;33m.\u001b[0m\u001b[0mappend\u001b[0m\u001b[1;33m(\u001b[0m\u001b[0mwi\u001b[0m\u001b[1;33m)\u001b[0m\u001b[1;33m\u001b[0m\u001b[0m\n\u001b[0;32m     35\u001b[0m     \u001b[0mprint\u001b[0m\u001b[1;33m(\u001b[0m\u001b[0mi\u001b[0m\u001b[1;33m)\u001b[0m\u001b[1;33m\u001b[0m\u001b[0m\n\u001b[1;32m---> 36\u001b[1;33m \u001b[0mW2\u001b[0m\u001b[1;33m\u001b[0m\u001b[0m\n\u001b[0m",
      "\u001b[1;31mNameError\u001b[0m: name 'W2' is not defined"
     ]
    }
   ],
   "source": [
    "y = sp.Symbol('y', real = True)\n",
    "Omega = sp.Symbol('Omega', real = True)\n",
    "\n",
    "L = 0.03 #meters\n",
    "b = 0.005 #meters\n",
    "h = 0.0005 #meters\n",
    "rho = 2711 #meters\n",
    "E = 6.89e10 #Pa\n",
    "A = b*h #meters**2\n",
    "Ix = (b*h**3)/12 #meters**4\n",
    "\n",
    "P = -5 # Newtons\n",
    "\n",
    "# define constant\n",
    "c=1\n",
    "\n",
    "omg=[452.44, 2835.41, 7939.1]\n",
    "\n",
    "W=[]\n",
    "\n",
    "# equation for mode shapes\n",
    "for i in range(0, 3):\n",
    "    ki = knL[i]/L\n",
    "    mi = A*rho*sp.integrate(((c/(sp.sin(knL[i]) + sp.sinh(knL[i])))*\\\n",
    "        ((sp.sin(ki*y) - sp.sinh(ki*y))*(sp.cos(knL[i]) + sp.cosh(knL[i])))\\\n",
    "        -c*sp.cos(ki*y) + c*sp.cosh(ki*y))**2, (y, 0, L))\n",
    "\n",
    "    Xi = (c/(np.sin(knL[i]) + np.sinh(knL[i])))*\\\n",
    "        ((np.sin(knL[i]) - np.sinh(knL[i]))*(np.cos(knL[i]) + np.cosh(knL[i])))\\\n",
    "        -c*np.cos(knL[i]) + c*np.cosh(knL[i])\n",
    "        \n",
    "    ci = (P*Xi)/(mi*(omg[i]**2-Omega**2))\n",
    "    \n",
    "    wi = ci*Xi\n",
    "    \n",
    "    #wi = wi + wi\n",
    "    \n",
    "    W.append(wi)\n",
    "    print(i)\n",
    "W2"
   ]
  },
  {
   "cell_type": "code",
   "execution_count": null,
   "metadata": {
    "collapsed": true
   },
   "outputs": [],
   "source": [
    "OMG = sp.Symbol('OMG', real = True)\n",
    "\n",
    "RE1 = W[0].subs(Omega, OMG)\n",
    "\n",
    "RE2 = W[1].subs(Omega, OMG)\n",
    "\n",
    "RE3 = W[2].subs(Omega, OMG)\n",
    "\n",
    "#display(RE1)\n",
    "\n",
    "OMG = np.linspace(0, 9000, 10000)\n",
    "\n",
    "RE1s = str(RE1)\n",
    "RE2s = str(RE2)\n",
    "RE3s = str(RE3)\n",
    "#print(eval(RE11))\n",
    "#RE11 = -111.341090910707/(-0.000142602833219149*OMG**2 + 29.1910785488548)\n",
    "\n",
    "RE11 = eval(RE1s)\n",
    "RE22 = eval(RE2s)\n",
    "RE33 = eval(RE3s)\n",
    "\n",
    "#print(RE11)\n",
    "#print(RE22)\n",
    "#print(RE33)\n",
    "#print(OMG)\n",
    "\n",
    "#print(RE11+RE22+RE33)\n",
    "\n",
    "#Plot of numerical and analytical solutions\n",
    "fig = plt.figure(figsize = (15,8))\n",
    "\n",
    "plt.plot(OMG, RE11+RE22+RE33, 'b-', label = 'Response') #FFT solution plot\n",
    "\n",
    "plt.legend(loc = 'upper right')\n",
    "fig.suptitle('FRF', fontsize = 14)\n",
    "plt.xlabel('$\\omega$', fontsize = 14)\n",
    "plt.ylabel('Displacement $w$', fontsize = 14)\n",
    "plt.axis([0, 8000, -100, 100])\n",
    "\n",
    "plt.grid()\n",
    "plt.show()"
   ]
  },
  {
   "cell_type": "code",
   "execution_count": null,
   "metadata": {
    "collapsed": false
   },
   "outputs": [],
   "source": [
    "y = sp.Symbol('y', real = True)\n",
    "\n",
    "# constant for defining mode\n",
    "m = 0\n",
    "\n",
    "# calculate k1\n",
    "k1 = knL[m]/L\n",
    "\n",
    "# define constant\n",
    "c=1\n",
    "\n",
    "# equation for mode shapes\n",
    "mode1 = (c/(sp.sin(knL[m]) + sp.sinh(knL[m])))*\\\n",
    "        ((sp.sin(k1*y) - sp.sinh(k1*y))*(sp.cos(knL[m]) + sp.cosh(knL[m])))\\\n",
    "        -c*sp.cos(k1*y) + c*sp.cosh(k1*y)\n",
    "        \n",
    "sp.integrate(mode1, (y, 0, 1))"
   ]
  },
  {
   "cell_type": "code",
   "execution_count": null,
   "metadata": {
    "collapsed": false
   },
   "outputs": [],
   "source": [
    "omg=[452.44, 2835.41, 7939.1]\n",
    "omg[0]"
   ]
  },
  {
   "cell_type": "code",
   "execution_count": null,
   "metadata": {
    "collapsed": true
   },
   "outputs": [],
   "source": []
  }
 ],
 "metadata": {
  "kernelspec": {
   "display_name": "Python 3",
   "language": "python",
   "name": "python3"
  },
  "language_info": {
   "codemirror_mode": {
    "name": "ipython",
    "version": 3
   },
   "file_extension": ".py",
   "mimetype": "text/x-python",
   "name": "python",
   "nbconvert_exporter": "python",
   "pygments_lexer": "ipython3",
   "version": "3.5.1"
  }
 },
 "nbformat": 4,
 "nbformat_minor": 0
}
